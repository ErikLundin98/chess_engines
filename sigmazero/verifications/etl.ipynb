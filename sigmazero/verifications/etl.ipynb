{
 "cells": [
  {
   "cell_type": "code",
   "execution_count": 12,
   "metadata": {},
   "outputs": [
    {
     "name": "stdout",
     "output_type": "stream",
     "text": [
      "all_with_filtered_anotations_since1998.txt  env.cpp    games.csv\r\n",
      "env\t\t\t\t\t    etl.ipynb  loss_test_play.cpp\r\n"
     ]
    }
   ],
   "source": [
    "!ls"
   ]
  },
  {
   "cell_type": "code",
   "execution_count": 2,
   "metadata": {},
   "outputs": [],
   "source": [
    "import pandas as pd\n",
    "\n",
    "df = pd.read_csv('all_with_filtered_anotations_since1998.txt')\n"
   ]
  },
  {
   "cell_type": "code",
   "execution_count": 16,
   "metadata": {},
   "outputs": [
    {
     "data": {
      "text/html": [
       "<div>\n",
       "<style scoped>\n",
       "    .dataframe tbody tr th:only-of-type {\n",
       "        vertical-align: middle;\n",
       "    }\n",
       "\n",
       "    .dataframe tbody tr th {\n",
       "        vertical-align: top;\n",
       "    }\n",
       "\n",
       "    .dataframe thead th {\n",
       "        text-align: right;\n",
       "    }\n",
       "</style>\n",
       "<table border=\"1\" class=\"dataframe\">\n",
       "  <thead>\n",
       "    <tr style=\"text-align: right;\">\n",
       "      <th></th>\n",
       "      <th># #</th>\n",
       "    </tr>\n",
       "  </thead>\n",
       "  <tbody>\n",
       "    <tr>\n",
       "      <th>0</th>\n",
       "      <td># datetime 2013-08-10 22:32:16.640552</td>\n",
       "    </tr>\n",
       "    <tr>\n",
       "      <th>1</th>\n",
       "      <td># program programs/formats/pgn_to_filtered_ver...</td>\n",
       "    </tr>\n",
       "    <tr>\n",
       "      <th>2</th>\n",
       "      <td># filein original_data/scidbase/all.pgn</td>\n",
       "    </tr>\n",
       "    <tr>\n",
       "      <th>3</th>\n",
       "      <td># 1.t 2.date 3.result 4.welo 5.belo 6.len 7.da...</td>\n",
       "    </tr>\n",
       "    <tr>\n",
       "      <th>4</th>\n",
       "      <td>1 2000.03.14 1-0 2851 None 67 date_false resul...</td>\n",
       "    </tr>\n",
       "    <tr>\n",
       "      <th>5</th>\n",
       "      <td>2 2000.03.14 1-0 2851 None 53 date_false resul...</td>\n",
       "    </tr>\n",
       "    <tr>\n",
       "      <th>6</th>\n",
       "      <td>3 1999.11.20 1-0 2851 None 57 date_false resul...</td>\n",
       "    </tr>\n",
       "    <tr>\n",
       "      <th>7</th>\n",
       "      <td>4 1999.11.20 1-0 2851 None 49 date_false resul...</td>\n",
       "    </tr>\n",
       "    <tr>\n",
       "      <th>8</th>\n",
       "      <td>5 2000.02.20 1/2-1/2 2851 2633 97 date_false r...</td>\n",
       "    </tr>\n",
       "    <tr>\n",
       "      <th>9</th>\n",
       "      <td>6 2000.05.24 1/2-1/2 2851 2748 52 date_false r...</td>\n",
       "    </tr>\n",
       "  </tbody>\n",
       "</table>\n",
       "</div>"
      ],
      "text/plain": [
       "                                                 # #\n",
       "0              # datetime 2013-08-10 22:32:16.640552\n",
       "1  # program programs/formats/pgn_to_filtered_ver...\n",
       "2            # filein original_data/scidbase/all.pgn\n",
       "3  # 1.t 2.date 3.result 4.welo 5.belo 6.len 7.da...\n",
       "4  1 2000.03.14 1-0 2851 None 67 date_false resul...\n",
       "5  2 2000.03.14 1-0 2851 None 53 date_false resul...\n",
       "6  3 1999.11.20 1-0 2851 None 57 date_false resul...\n",
       "7  4 1999.11.20 1-0 2851 None 49 date_false resul...\n",
       "8  5 2000.02.20 1/2-1/2 2851 2633 97 date_false r...\n",
       "9  6 2000.05.24 1/2-1/2 2851 2748 52 date_false r..."
      ]
     },
     "execution_count": 16,
     "metadata": {},
     "output_type": "execute_result"
    }
   ],
   "source": [
    "df.head(10)"
   ]
  },
  {
   "cell_type": "code",
   "execution_count": 17,
   "metadata": {},
   "outputs": [],
   "source": [
    "df = df.iloc[4:]"
   ]
  },
  {
   "cell_type": "code",
   "execution_count": 20,
   "metadata": {},
   "outputs": [
    {
     "data": {
      "text/html": [
       "<div>\n",
       "<style scoped>\n",
       "    .dataframe tbody tr th:only-of-type {\n",
       "        vertical-align: middle;\n",
       "    }\n",
       "\n",
       "    .dataframe tbody tr th {\n",
       "        vertical-align: top;\n",
       "    }\n",
       "\n",
       "    .dataframe thead th {\n",
       "        text-align: right;\n",
       "    }\n",
       "</style>\n",
       "<table border=\"1\" class=\"dataframe\">\n",
       "  <thead>\n",
       "    <tr style=\"text-align: right;\">\n",
       "      <th></th>\n",
       "      <th># #</th>\n",
       "    </tr>\n",
       "  </thead>\n",
       "  <tbody>\n",
       "    <tr>\n",
       "      <th>4</th>\n",
       "      <td>1 2000.03.14 1-0 2851 None 67 date_false resul...</td>\n",
       "    </tr>\n",
       "    <tr>\n",
       "      <th>5</th>\n",
       "      <td>2 2000.03.14 1-0 2851 None 53 date_false resul...</td>\n",
       "    </tr>\n",
       "    <tr>\n",
       "      <th>6</th>\n",
       "      <td>3 1999.11.20 1-0 2851 None 57 date_false resul...</td>\n",
       "    </tr>\n",
       "    <tr>\n",
       "      <th>7</th>\n",
       "      <td>4 1999.11.20 1-0 2851 None 49 date_false resul...</td>\n",
       "    </tr>\n",
       "    <tr>\n",
       "      <th>8</th>\n",
       "      <td>5 2000.02.20 1/2-1/2 2851 2633 97 date_false r...</td>\n",
       "    </tr>\n",
       "  </tbody>\n",
       "</table>\n",
       "</div>"
      ],
      "text/plain": [
       "                                                 # #\n",
       "4  1 2000.03.14 1-0 2851 None 67 date_false resul...\n",
       "5  2 2000.03.14 1-0 2851 None 53 date_false resul...\n",
       "6  3 1999.11.20 1-0 2851 None 57 date_false resul...\n",
       "7  4 1999.11.20 1-0 2851 None 49 date_false resul...\n",
       "8  5 2000.02.20 1/2-1/2 2851 2633 97 date_false r..."
      ]
     },
     "execution_count": 20,
     "metadata": {},
     "output_type": "execute_result"
    }
   ],
   "source": [
    "#1.t 2.date 3.result 4.welo 5.belo 6.len 7.date_c 8.resu_c 9.welo_c 10.belo_c 11.edate_c 12.setup 13.fen 14.resu2_c 15.oyrange 16.bad_len 17.game...\n",
    "df.head()\n"
   ]
  },
  {
   "cell_type": "code",
   "execution_count": 32,
   "metadata": {},
   "outputs": [],
   "source": [
    "clean_df = pd.DataFrame()\n",
    "\n",
    "w = []\n",
    "m = []\n",
    "\n",
    "\n",
    "for idx, row in df.iterrows():\n",
    "    row = row.values[0]\n",
    "    meta, moves = row.split(' ### ')\n",
    "    meta = meta.split()\n",
    "    if meta[2] == '1-0':\n",
    "        winner = 'w'\n",
    "    elif meta[2] == '0-1':\n",
    "        winner = 'b'\n",
    "    else:\n",
    "        winner = 'd'\n",
    "    \n",
    "    w.append(winner)\n",
    "    m.append(moves)\n",
    "    \n",
    "    "
   ]
  },
  {
   "cell_type": "code",
   "execution_count": 34,
   "metadata": {},
   "outputs": [
    {
     "data": {
      "text/plain": [
       "3561470"
      ]
     },
     "execution_count": 34,
     "metadata": {},
     "output_type": "execute_result"
    }
   ],
   "source": [
    "len(w)\n",
    "len(m)"
   ]
  },
  {
   "cell_type": "code",
   "execution_count": 35,
   "metadata": {},
   "outputs": [],
   "source": [
    "clean_df['winner'] = w\n",
    "clean_df['moves'] = m"
   ]
  },
  {
   "cell_type": "code",
   "execution_count": 36,
   "metadata": {},
   "outputs": [
    {
     "data": {
      "text/html": [
       "<div>\n",
       "<style scoped>\n",
       "    .dataframe tbody tr th:only-of-type {\n",
       "        vertical-align: middle;\n",
       "    }\n",
       "\n",
       "    .dataframe tbody tr th {\n",
       "        vertical-align: top;\n",
       "    }\n",
       "\n",
       "    .dataframe thead th {\n",
       "        text-align: right;\n",
       "    }\n",
       "</style>\n",
       "<table border=\"1\" class=\"dataframe\">\n",
       "  <thead>\n",
       "    <tr style=\"text-align: right;\">\n",
       "      <th></th>\n",
       "      <th>winner</th>\n",
       "      <th>moves</th>\n",
       "    </tr>\n",
       "  </thead>\n",
       "  <tbody>\n",
       "    <tr>\n",
       "      <th>0</th>\n",
       "      <td>w</td>\n",
       "      <td>W1.d4 B1.d5 W2.c4 B2.e6 W3.Nc3 B3.Nf6 W4.cxd5 ...</td>\n",
       "    </tr>\n",
       "    <tr>\n",
       "      <th>1</th>\n",
       "      <td>w</td>\n",
       "      <td>W1.e4 B1.d5 W2.exd5 B2.Qxd5 W3.Nc3 B3.Qa5 W4.d...</td>\n",
       "    </tr>\n",
       "    <tr>\n",
       "      <th>2</th>\n",
       "      <td>w</td>\n",
       "      <td>W1.e4 B1.e5 W2.Nf3 B2.Nc6 W3.Bc4 B3.Bc5 W4.c3 ...</td>\n",
       "    </tr>\n",
       "    <tr>\n",
       "      <th>3</th>\n",
       "      <td>w</td>\n",
       "      <td>W1.e4 B1.d5 W2.exd5 B2.Qxd5 W3.Nc3 B3.Qa5 W4.d...</td>\n",
       "    </tr>\n",
       "    <tr>\n",
       "      <th>4</th>\n",
       "      <td>d</td>\n",
       "      <td>W1.e4 B1.e5 W2.Nf3 B2.Nc6 W3.Bb5 B3.a6 W4.Ba4 ...</td>\n",
       "    </tr>\n",
       "  </tbody>\n",
       "</table>\n",
       "</div>"
      ],
      "text/plain": [
       "  winner                                              moves\n",
       "0      w  W1.d4 B1.d5 W2.c4 B2.e6 W3.Nc3 B3.Nf6 W4.cxd5 ...\n",
       "1      w  W1.e4 B1.d5 W2.exd5 B2.Qxd5 W3.Nc3 B3.Qa5 W4.d...\n",
       "2      w  W1.e4 B1.e5 W2.Nf3 B2.Nc6 W3.Bc4 B3.Bc5 W4.c3 ...\n",
       "3      w  W1.e4 B1.d5 W2.exd5 B2.Qxd5 W3.Nc3 B3.Qa5 W4.d...\n",
       "4      d  W1.e4 B1.e5 W2.Nf3 B2.Nc6 W3.Bb5 B3.a6 W4.Ba4 ..."
      ]
     },
     "execution_count": 36,
     "metadata": {},
     "output_type": "execute_result"
    }
   ],
   "source": [
    "clean_df.head()"
   ]
  },
  {
   "cell_type": "code",
   "execution_count": 39,
   "metadata": {},
   "outputs": [
    {
     "data": {
      "text/html": [
       "<div>\n",
       "<style scoped>\n",
       "    .dataframe tbody tr th:only-of-type {\n",
       "        vertical-align: middle;\n",
       "    }\n",
       "\n",
       "    .dataframe tbody tr th {\n",
       "        vertical-align: top;\n",
       "    }\n",
       "\n",
       "    .dataframe thead th {\n",
       "        text-align: right;\n",
       "    }\n",
       "</style>\n",
       "<table border=\"1\" class=\"dataframe\">\n",
       "  <thead>\n",
       "    <tr style=\"text-align: right;\">\n",
       "      <th></th>\n",
       "      <th>winner</th>\n",
       "      <th>moves</th>\n",
       "    </tr>\n",
       "  </thead>\n",
       "  <tbody>\n",
       "    <tr>\n",
       "      <th>18</th>\n",
       "      <td>b</td>\n",
       "      <td>W1.d4 B1.Nf6 W2.Nf3 B2.g6 W3.c4 B3.Bg7 W4.Nc3 ...</td>\n",
       "    </tr>\n",
       "    <tr>\n",
       "      <th>20</th>\n",
       "      <td>b</td>\n",
       "      <td>W1.e4 B1.e5 W2.Nf3 B2.Nc6 W3.Bc4 B3.Nf6 W4.d3 ...</td>\n",
       "    </tr>\n",
       "    <tr>\n",
       "      <th>136</th>\n",
       "      <td>b</td>\n",
       "      <td>W1.d4 B1.d5 W2.c4 B2.c6 W3.Nc3 B3.Nf6 W4.e3 B4...</td>\n",
       "    </tr>\n",
       "    <tr>\n",
       "      <th>140</th>\n",
       "      <td>b</td>\n",
       "      <td>W1.e4 B1.e6 W2.d4 B2.d5 W3.Nc3 B3.Nf6 W4.e5 B4...</td>\n",
       "    </tr>\n",
       "    <tr>\n",
       "      <th>148</th>\n",
       "      <td>b</td>\n",
       "      <td>W1.e4 B1.e5 W2.Nf3 B2.Nf6 W3.Nxe5 B3.d6 W4.Nf3...</td>\n",
       "    </tr>\n",
       "  </tbody>\n",
       "</table>\n",
       "</div>"
      ],
      "text/plain": [
       "    winner                                              moves\n",
       "18       b  W1.d4 B1.Nf6 W2.Nf3 B2.g6 W3.c4 B3.Bg7 W4.Nc3 ...\n",
       "20       b  W1.e4 B1.e5 W2.Nf3 B2.Nc6 W3.Bc4 B3.Nf6 W4.d3 ...\n",
       "136      b  W1.d4 B1.d5 W2.c4 B2.c6 W3.Nc3 B3.Nf6 W4.e3 B4...\n",
       "140      b  W1.e4 B1.e6 W2.d4 B2.d5 W3.Nc3 B3.Nf6 W4.e5 B4...\n",
       "148      b  W1.e4 B1.e5 W2.Nf3 B2.Nf6 W3.Nxe5 B3.d6 W4.Nf3..."
      ]
     },
     "execution_count": 39,
     "metadata": {},
     "output_type": "execute_result"
    }
   ],
   "source": [
    "clean_df[clean_df['winner']=='b'].head()"
   ]
  },
  {
   "cell_type": "code",
   "execution_count": 40,
   "metadata": {},
   "outputs": [],
   "source": [
    "clean_df.to_csv('winner_and_moves.csv')"
   ]
  },
  {
   "cell_type": "code",
   "execution_count": 1,
   "metadata": {},
   "outputs": [],
   "source": [
    "import pandas as pd\n",
    "df = pd.read_csv('winner_and_moves.csv')"
   ]
  },
  {
   "cell_type": "code",
   "execution_count": 64,
   "metadata": {
    "scrolled": true
   },
   "outputs": [
    {
     "name": "stdout",
     "output_type": "stream",
     "text": [
      "Found existing installation: numpy 1.20.3\n",
      "Uninstalling numpy-1.20.3:\n",
      "  Successfully uninstalled numpy-1.20.3\n",
      "Collecting numpy\n",
      "  Using cached numpy-1.21.4-cp38-cp38-manylinux_2_12_x86_64.manylinux2010_x86_64.whl (15.7 MB)\n",
      "\u001b[31mERROR: numba 0.54.1 has requirement numpy<1.21,>=1.17, but you'll have numpy 1.21.4 which is incompatible.\u001b[0m\n",
      "Installing collected packages: numpy\n",
      "Successfully installed numpy-1.21.4\n"
     ]
    }
   ],
   "source": [
    "\n",
    "!pip3 uninstall -y numpy\n",
    "!pip3 install numpy\n"
   ]
  },
  {
   "cell_type": "code",
   "execution_count": 59,
   "metadata": {},
   "outputs": [
    {
     "data": {
      "text/plain": [
       "array([[0, 'w',\n",
       "        'W1.d4 B1.d5 W2.c4 B2.e6 W3.Nc3 B3.Nf6 W4.cxd5 B4.exd5 W5.Bg5 B5.Be7 W6.e3 B6.Ne4 W7.Bxe7 B7.Nxc3 W8.Bxd8 B8.Nxd1 W9.Bxc7 B9.Nxb2 W10.Rb1 B10.Nc4 W11.Bxc4 B11.dxc4 W12.Ne2 B12.O-O W13.Nc3 B13.b6 W14.d5 B14.Na6 W15.Bd6 B15.Rd8 W16.Ba3 B16.Bb7 W17.e4 B17.f6 W18.Ke2 B18.Nc7 W19.Rhd1 B19.Ba6 W20.Ke3 B20.Kf7 W21.g4 B21.g5 W22.h4 B22.h6 W23.Rh1 B23.Re8 W24.f3 B24.Bb7 W25.hxg5 B25.fxg5 W26.d6 B26.Nd5+ W27.Nxd5 B27.Bxd5 W28.Rxh6 B28.c3 W29.d7 B29.Re6 W30.Rh7+ B30.Kg8 W31.Rbh1 B31.Bc6 W32.Rh8+ B32.Kf7 W33.Rxa8 B33.Bxd7 W34.Rh7+ '],\n",
       "       [1, 'w',\n",
       "        'W1.e4 B1.d5 W2.exd5 B2.Qxd5 W3.Nc3 B3.Qa5 W4.d4 B4.Nf6 W5.Nf3 B5.c6 W6.Ne5 B6.Bf5 W7.g4 B7.Be4 W8.f3 B8.Bd5 W9.a3 B9.Nbd7 W10.Be3 B10.Nxe5 W11.dxe5 B11.Nxg4 W12.Bd4 B12.e6 W13.b4 B13.Qd8 W14.Nxd5 B14.Qxd5 W15.c4 B15.Ne3 W16.cxd5 B16.Nxd1 W17.dxc6 B17.bxc6 W18.Rxd1 B18.Be7 W19.Ba6 B19.O-O W20.Ke2 B20.Rab8 W21.Rc1 B21.Rfd8 W22.Rhd1 B22.c5 W23.Bxc5 B23.Rxd1 W24.Rxd1 B24.Bxc5 W25.bxc5 B25.g6 W26.c6 B26.Rb2+ W27.Rd2 '],\n",
       "       [2, 'w',\n",
       "        'W1.e4 B1.e5 W2.Nf3 B2.Nc6 W3.Bc4 B3.Bc5 W4.c3 B4.Nf6 W5.d3 B5.d6 W6.Bb3 B6.O-O W7.Nbd2 B7.Be6 W8.O-O B8.Qd7 W9.Re1 B9.Rfe8 W10.Nf1 B10.Ne7 W11.Ng3 B11.Bg4 W12.h3 B12.Be6 W13.Bg5 B13.Kh8 W14.Bxf6 B14.gxf6 W15.d4 B15.exd4 W16.cxd4 B16.Bb4 W17.Re3 B17.Rg8 W18.d5 B18.Bxh3 W19.Qd4 B19.Rg6 W20.Qxb4 B20.c5 W21.Qc3 B21.Bg4 W22.Bc2 B22.Rh6 W23.Nh2 B23.b5 W24.b4 B24.Rc8 W25.Bd3 B25.c4 W26.Bc2 B26.Bh5 W27.Nxh5 B27.Rxh5 W28.Qxf6+ B28.Kg8 W29.Bd1 '],\n",
       "       [3, 'w',\n",
       "        'W1.e4 B1.d5 W2.exd5 B2.Qxd5 W3.Nc3 B3.Qa5 W4.d4 B4.e6 W5.Nf3 B5.c6 W6.Bd3 B6.Nf6 W7.O-O B7.Be7 W8.Re1 B8.Nbd7 W9.Ne5 B9.O-O W10.Bg5 B10.Qd8 W11.Qf3 B11.Re8 W12.Rad1 B12.Nf8 W13.Ne4 B13.Ng6 W14.h4 B14.Nxe5 W15.dxe5 B15.Nxe4 W16.Bxe4 B16.Qc7 W17.Bxe7 B17.Qxe7 W18.h5 B18.Bd7 W19.h6 B19.gxh6 W20.Qf4 B20.h5 W21.Qh6 B21.f5 W22.exf6 B22.Qf7 W23.Re3 B23.Kh8 W24.Rg3 B24.Rg8 W25.Rg7 '],\n",
       "       [4, 'd',\n",
       "        'W1.e4 B1.e5 W2.Nf3 B2.Nc6 W3.Bb5 B3.a6 W4.Ba4 B4.Nf6 W5.O-O B5.Be7 W6.Re1 B6.b5 W7.Bb3 B7.d6 W8.c3 B8.O-O W9.h3 B9.Na5 W10.Bc2 B10.c5 W11.d4 B11.Qc7 W12.Nbd2 B12.Bd7 W13.Nf1 B13.cxd4 W14.cxd4 B14.Rac8 W15.Ne3 B15.Nc6 W16.d5 B16.Nb4 W17.Bb1 B17.a5 W18.a3 B18.Na6 W19.b4 B19.Ra8 W20.Bd2 B20.Rfc8 W21.Bd3 B21.Qb7 W22.g4 B22.g6 W23.Nf1 B23.axb4 W24.axb4 B24.Bd8 W25.Ng3 B25.Nc7 W26.Qe2 B26.Rxa1 W27.Rxa1 B27.Ra8 W28.Qe1 B28.Nfe8 W29.Qc1 B29.Ng7 W30.Rxa8 B30.Qxa8 W31.Bh6 B31.Nce8 W32.Qb2 B32.Qa4 W33.Kg2 B33.Bb6 W34.Bc2 B34.Qa7 W35.Bd3 B35.Qa4 W36.Ne2 B36.Nc7 W37.Nxe5 B37.dxe5 W38.Qxe5 B38.Nce8 W39.Bxg7 B39.Qd1 W40.Bh6 B40.Qxd3 W41.Qe7 B41.Ng7 W42.Ng3 B42.Qc2 W43.Qf6 B43.Nf5 W44.Qxb6 B44.Nh4+ W45.Kh2 B45.Nf3+ W46.Kg2 B46.Nh4+ W47.Kh2 B47.Nf3+ W48.Kg2 B48.Nh4+ W49.Kh2 ']],\n",
       "      dtype=object)"
      ]
     },
     "execution_count": 59,
     "metadata": {},
     "output_type": "execute_result"
    }
   ],
   "source": [
    "import chess\n",
    "from tqdm import tqdm\n",
    "tqdm.pandas()\n",
    "df.head(5).values"
   ]
  },
  {
   "cell_type": "code",
   "execution_count": 65,
   "metadata": {},
   "outputs": [
    {
     "data": {
      "text/plain": [
       "'d2-d4,d7-d5,c2-c4,e7-e6,Nb1-c3,Ng8-f6,c4xd5,e6xd5,Bc1-g5,Bf8-e7,e2-e3,Nf6-e4,Bg5xe7,Ne4xc3,Be7xd8,Nc3xd1,Bd8xc7,Nd1xb2,Ra1-b1,Nb2-c4,Bf1xc4,d5xc4,Ng1-e2,O-O,Ne2-c3,b7-b6,d4-d5,Nb8-a6,Bc7-d6,Rf8-d8,Bd6-a3,Bc8-b7,e3-e4,f7-f6,Ke1-e2,Na6-c7,Rh1-d1,Bb7-a6,Ke2-e3,Kg8-f7,g2-g4,g7-g5,h2-h4,h7-h6,Rd1-h1,Rd8-e8,f2-f3,Ba6-b7,h4xg5,f6xg5,d5-d6,Nc7-d5+,Nc3xd5,Bb7xd5,Rh1xh6,c4-c3,d6-d7,Re8-e6,Rh6-h7+,Kf7-g8,Rb1-h1,Bd5-c6,Rh7-h8+,Kg8-f7,Rh8xa8,Bc6xd7,Rh1-h7+'"
      ]
     },
     "execution_count": 65,
     "metadata": {},
     "output_type": "execute_result"
    }
   ],
   "source": [
    "def to_lan(x):\n",
    "    try:\n",
    "        board = chess.Board()\n",
    "        san_moves = [moves.split('.')[1].strip() for moves in x.split()] # get move in SAN\n",
    "        lan_moves = []\n",
    "        for move in san_moves:\n",
    "            m = board.parse_san(move)\n",
    "            lan_moves.append(board.lan(m))\n",
    "            board.push_san(move)\n",
    "    except Exception as e:\n",
    "        return None\n",
    "    return ','.join(lan_moves)\n",
    "    \n",
    "to_lan('W1.d4 B1.d5 W2.c4 B2.e6 W3.Nc3 B3.Nf6 W4.cxd5 B4.exd5 W5.Bg5 B5.Be7 W6.e3 B6.Ne4 W7.Bxe7 B7.Nxc3 W8.Bxd8 B8.Nxd1 W9.Bxc7 B9.Nxb2 W10.Rb1 B10.Nc4 W11.Bxc4 B11.dxc4 W12.Ne2 B12.O-O W13.Nc3 B13.b6 W14.d5 B14.Na6 W15.Bd6 B15.Rd8 W16.Ba3 B16.Bb7 W17.e4 B17.f6 W18.Ke2 B18.Nc7 W19.Rhd1 B19.Ba6 W20.Ke3 B20.Kf7 W21.g4 B21.g5 W22.h4 B22.h6 W23.Rh1 B23.Re8 W24.f3 B24.Bb7 W25.hxg5 B25.fxg5 W26.d6 B26.Nd5+ W27.Nxd5 B27.Bxd5 W28.Rxh6 B28.c3 W29.d7 B29.Re6 W30.Rh7+ B30.Kg8 W31.Rbh1 B31.Bc6 W32.Rh8+ B32.Kf7 W33.Rxa8 B33.Bxd7 W34.Rh7+')\n"
   ]
  },
  {
   "cell_type": "code",
   "execution_count": 66,
   "metadata": {},
   "outputs": [
    {
     "data": {
      "text/plain": [
       "3561470"
      ]
     },
     "execution_count": 66,
     "metadata": {},
     "output_type": "execute_result"
    }
   ],
   "source": [
    "df['moves'] = df.moves.astype(str)\n",
    "len(df)"
   ]
  },
  {
   "cell_type": "code",
   "execution_count": 67,
   "metadata": {},
   "outputs": [
    {
     "name": "stderr",
     "output_type": "stream",
     "text": [
      "100%|██████████████████████████████████████████████████████████████████████| 3561470/3561470 [4:08:32<00:00, 238.83it/s]\n"
     ]
    }
   ],
   "source": [
    "df['lan_moves'] = df['moves'].progress_apply(to_lan)\n",
    "#df['moves'].head(1000).progress_apply(to_lan)"
   ]
  },
  {
   "cell_type": "code",
   "execution_count": 15,
   "metadata": {
    "scrolled": true
   },
   "outputs": [
    {
     "ename": "NameError",
     "evalue": "name 'df' is not defined",
     "output_type": "error",
     "traceback": [
      "\u001b[0;31m---------------------------------------------------------------------------\u001b[0m",
      "\u001b[0;31mNameError\u001b[0m                                 Traceback (most recent call last)",
      "\u001b[0;32m/tmp/ipykernel_4081/4011149954.py\u001b[0m in \u001b[0;36m<module>\u001b[0;34m\u001b[0m\n\u001b[0;32m----> 1\u001b[0;31m \u001b[0mdf\u001b[0m\u001b[0;34m.\u001b[0m\u001b[0mtail\u001b[0m\u001b[0;34m(\u001b[0m\u001b[0;36m100\u001b[0m\u001b[0;34m)\u001b[0m\u001b[0;34m\u001b[0m\u001b[0;34m\u001b[0m\u001b[0m\n\u001b[0m",
      "\u001b[0;31mNameError\u001b[0m: name 'df' is not defined"
     ]
    }
   ],
   "source": [
    "df.head(100)"
   ]
  },
  {
   "cell_type": "code",
   "execution_count": 71,
   "metadata": {},
   "outputs": [
    {
     "name": "stdout",
     "output_type": "stream",
     "text": [
      "3561470 38544\n"
     ]
    }
   ],
   "source": [
    "print(len(df), sum(df['lan_moves'].isna()))"
   ]
  },
  {
   "cell_type": "code",
   "execution_count": 74,
   "metadata": {},
   "outputs": [
    {
     "name": "stdout",
     "output_type": "stream",
     "text": [
      "3522926 0\n"
     ]
    }
   ],
   "source": [
    "df.dropna(inplace=True)\n",
    "print(len(df), sum(df['lan_moves'].isna()))"
   ]
  },
  {
   "cell_type": "code",
   "execution_count": 76,
   "metadata": {},
   "outputs": [
    {
     "data": {
      "text/html": [
       "<div>\n",
       "<style scoped>\n",
       "    .dataframe tbody tr th:only-of-type {\n",
       "        vertical-align: middle;\n",
       "    }\n",
       "\n",
       "    .dataframe tbody tr th {\n",
       "        vertical-align: top;\n",
       "    }\n",
       "\n",
       "    .dataframe thead th {\n",
       "        text-align: right;\n",
       "    }\n",
       "</style>\n",
       "<table border=\"1\" class=\"dataframe\">\n",
       "  <thead>\n",
       "    <tr style=\"text-align: right;\">\n",
       "      <th></th>\n",
       "      <th>winner</th>\n",
       "      <th>lan_moves</th>\n",
       "    </tr>\n",
       "  </thead>\n",
       "  <tbody>\n",
       "    <tr>\n",
       "      <th>0</th>\n",
       "      <td>w</td>\n",
       "      <td>d2-d4,d7-d5,c2-c4,e7-e6,Nb1-c3,Ng8-f6,c4xd5,e6...</td>\n",
       "    </tr>\n",
       "    <tr>\n",
       "      <th>1</th>\n",
       "      <td>w</td>\n",
       "      <td>e2-e4,d7-d5,e4xd5,Qd8xd5,Nb1-c3,Qd5-a5,d2-d4,N...</td>\n",
       "    </tr>\n",
       "    <tr>\n",
       "      <th>2</th>\n",
       "      <td>w</td>\n",
       "      <td>e2-e4,e7-e5,Ng1-f3,Nb8-c6,Bf1-c4,Bf8-c5,c2-c3,...</td>\n",
       "    </tr>\n",
       "    <tr>\n",
       "      <th>3</th>\n",
       "      <td>w</td>\n",
       "      <td>e2-e4,d7-d5,e4xd5,Qd8xd5,Nb1-c3,Qd5-a5,d2-d4,e...</td>\n",
       "    </tr>\n",
       "    <tr>\n",
       "      <th>4</th>\n",
       "      <td>d</td>\n",
       "      <td>e2-e4,e7-e5,Ng1-f3,Nb8-c6,Bf1-b5,a7-a6,Bb5-a4,...</td>\n",
       "    </tr>\n",
       "  </tbody>\n",
       "</table>\n",
       "</div>"
      ],
      "text/plain": [
       "  winner                                          lan_moves\n",
       "0      w  d2-d4,d7-d5,c2-c4,e7-e6,Nb1-c3,Ng8-f6,c4xd5,e6...\n",
       "1      w  e2-e4,d7-d5,e4xd5,Qd8xd5,Nb1-c3,Qd5-a5,d2-d4,N...\n",
       "2      w  e2-e4,e7-e5,Ng1-f3,Nb8-c6,Bf1-c4,Bf8-c5,c2-c3,...\n",
       "3      w  e2-e4,d7-d5,e4xd5,Qd8xd5,Nb1-c3,Qd5-a5,d2-d4,e...\n",
       "4      d  e2-e4,e7-e5,Ng1-f3,Nb8-c6,Bf1-b5,a7-a6,Bb5-a4,..."
      ]
     },
     "execution_count": 76,
     "metadata": {},
     "output_type": "execute_result"
    }
   ],
   "source": [
    "df[['winner', 'lan_moves']].head()"
   ]
  },
  {
   "cell_type": "code",
   "execution_count": 77,
   "metadata": {},
   "outputs": [],
   "source": [
    "df[['winner', 'lan_moves']].to_csv('clean_dataset.csv', sep=';', header=False, index=False)"
   ]
  },
  {
   "cell_type": "code",
   "execution_count": 1,
   "metadata": {
    "scrolled": true
   },
   "outputs": [],
   "source": [
    "# convert from LAN to UCI\n",
    "import pandas as pd\n",
    "new_df = pd.read_csv('lan_dataset.csv', sep=';', header=None)"
   ]
  },
  {
   "cell_type": "code",
   "execution_count": 24,
   "metadata": {},
   "outputs": [
    {
     "data": {
      "text/plain": [
       "'d2-d4,Ng8-f6,Bc1-g5,Nf6-e4,Bg5-f4,c7-c5,f2-f3,Ne4-f6,d4xc5,b7-b6,e2-e4,b6xc5,Nb1-c3,Nb8-c6,Bf1-c4,d7-d6,e4-e5,d6xe5,Qd1xd8+,Ke8xd8,O-O-O+,Bc8-d7,Bc4-b5,e5xf4,Bb5xc6,Ra8-c8,Bc6xd7,Nf6xd7,Ng1-h3,Kd8-e8,Nh3xf4,g7-g6,Kc1-b1,Bf8-g7,Nc3-e4,Nd7-b6,Rh1-e1,Ke8-f8,Ne4xc5,Bg7xb2,Kb1xb2,Rc8xc5,Rd1-d8+,Kf8-g7,Rd8-e8,Rh8-g8,Re8xg8+,Kg7xg8,Re1xe7,Kg8-h8,Kb2-c1,Rc5-a5,Re7xf7,Ra5xa2,Rf7-c7,a7-a5,g2-g4,Ra2-a3,Nf4-e6,Kh8-g8,f3-f4,Ra3-e3,f4-f5,g6xf5,g4xf5,Re3-e5,Rc7-d7,h7-h6,Rd7-f7,Kg8-h8,Rf7-f6,Nb6-c4,Kc1-b1,a5-a4,Rf6xh6+,Kh8-g8,Rh6-g6+,Kg8-f7,Ne6-g5+,Kf7-f8,f5-f6,Re5-b5+,Kb1-a1,Nc4-e3,Ng5-h7+,Kf8-e8,Rg6-g8+,Ke8-d7,Rg8-g7+,Kd7-d6,f6-f7,Ne3xc2+,Ka1-a2'"
      ]
     },
     "execution_count": 24,
     "metadata": {},
     "output_type": "execute_result"
    }
   ],
   "source": [
    "new_df[1][462]"
   ]
  },
  {
   "cell_type": "code",
   "execution_count": 40,
   "metadata": {},
   "outputs": [],
   "source": [
    "import chess\n",
    "\n",
    "\n",
    "def lan2uci(x):\n",
    "    moves = x.split(',')\n",
    "    white = True\n",
    "    for i in range(len(moves)):\n",
    "        if moves[i][0:5].lower() == 'o-o-o':\n",
    "            if white:\n",
    "                moves[i] = 'e1c1'\n",
    "            else:\n",
    "                moves[i] = 'e8c8'\n",
    "        elif moves[i][0:3].lower() == 'o-o':\n",
    "            if white:\n",
    "                moves[i] = 'e1g1'\n",
    "            else:\n",
    "                moves[i] = 'e8g8'\n",
    "\n",
    "        if moves[i][0].isupper():\n",
    "            moves[i] = moves[i][1:]\n",
    "\n",
    "        white = not white\n",
    "    x = ','.join(moves)\n",
    "    \n",
    "    x = x.replace('-', '').replace('x', '').replace('+', '').replace('=', '').replace('#', '') #.lower()\n",
    "    #x = ''.join(ch for ch in x if not ch.isupper())\n",
    "    \n",
    "    \n",
    "    \n",
    "    return x\n",
    "\n",
    "for i in range(50000):\n",
    "    s = lan2uci(new_df[1][i])\n",
    "    #print(i)\n",
    "\n",
    "    b = chess.Board()\n",
    "    i = 0\n",
    "    moves = s.split(',')\n",
    "    for idx in range(len(moves)):\n",
    "        i += 1\n",
    "        try:\n",
    "            move = chess.Move.from_uci(moves[idx])\n",
    "            b.push(move)\n",
    "        except Exception as e:\n",
    "            print(e)\n",
    "            print(moves[idx-1])\n",
    "            print(moves[idx])\n",
    "\n",
    "\n"
   ]
  },
  {
   "cell_type": "code",
   "execution_count": 39,
   "metadata": {},
   "outputs": [
    {
     "name": "stderr",
     "output_type": "stream",
     "text": [
      "100%|██████████████████████████████████████████████████████████████████████| 3522926/3522926 [01:43<00:00, 33948.20it/s]\n"
     ]
    }
   ],
   "source": [
    "from tqdm import tqdm\n",
    "tqdm.pandas()\n",
    "new_df[1] = new_df[1].progress_apply(lan2uci)"
   ]
  },
  {
   "cell_type": "code",
   "execution_count": 43,
   "metadata": {},
   "outputs": [
    {
     "data": {
      "text/plain": [
       "3522926"
      ]
     },
     "execution_count": 43,
     "metadata": {},
     "output_type": "execute_result"
    }
   ],
   "source": [
    "new_df.head()\n",
    "len(new_df)"
   ]
  },
  {
   "cell_type": "code",
   "execution_count": 42,
   "metadata": {},
   "outputs": [],
   "source": [
    "new_df.to_csv('uci_dataset.csv', sep=';', header=False, index=False)"
   ]
  }
 ],
 "metadata": {
  "kernelspec": {
   "display_name": "Python 3 (ipykernel)",
   "language": "python",
   "name": "python3"
  },
  "language_info": {
   "codemirror_mode": {
    "name": "ipython",
    "version": 3
   },
   "file_extension": ".py",
   "mimetype": "text/x-python",
   "name": "python",
   "nbconvert_exporter": "python",
   "pygments_lexer": "ipython3",
   "version": "3.8.10"
  }
 },
 "nbformat": 4,
 "nbformat_minor": 2
}
